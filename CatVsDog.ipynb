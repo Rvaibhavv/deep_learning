{
 "cells": [
  {
   "cell_type": "code",
   "execution_count": null,
   "metadata": {},
   "outputs": [],
   "source": [
    "#   https://www.kaggle.com/datasets/salader/dogs-vs-cats\n",
    "#   from the following link you can download the dataset \n",
    "#   it is present in Kaggle"
   ]
  }
 ],
 "metadata": {
  "language_info": {
   "name": "python"
  }
 },
 "nbformat": 4,
 "nbformat_minor": 2
}
