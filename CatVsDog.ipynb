{
 "cells": [
  {
   "cell_type": "code",
   "execution_count": null,
   "metadata": {},
   "outputs": [],
   "source": [
    "#   https://www.kaggle.com/datasets/salader/dogs-vs-cats\n",
    "#   from the following link you can download the dataset \n",
    "#   it is present in Kaggle\n",
    "#   https://github.com/Rvaibhavv/deep_learning/blob/main/CatVsDog.ipynb"
   ]
  },
  {
   "cell_type": "code",
   "execution_count": 1,
   "metadata": {},
   "outputs": [],
   "source": [
    "import zipfile\n",
    "zip_ref =zipfile.ZipFile('C:/Users/rvaib/Downloads/archive (1).zip')\n",
    "zip_ref.extractall('C:/Users/rvaib/onedrive/Desktop/deep_learning/content')\n",
    "zip_ref.close()"
   ]
  },
  {
   "cell_type": "code",
   "execution_count": 7,
   "metadata": {},
   "outputs": [],
   "source": [
    "import tensorflow as tf\n",
    "from tensorflow import keras\n",
    "from keras import models, layers\n",
    "# from keras.layers import Dense,Conv2D,MaxPool2D,Flatten\n"
   ]
  },
  {
   "cell_type": "code",
   "execution_count": 8,
   "metadata": {},
   "outputs": [
    {
     "name": "stdout",
     "output_type": "stream",
     "text": [
      "Found 20000 files belonging to 2 classes.\n",
      "Found 5000 files belonging to 2 classes.\n"
     ]
    }
   ],
   "source": [
    "train_ds = keras.utils.image_dataset_from_directory(\n",
    "    directory='C:/Users/rvaib/OneDrive/Desktop/deep_learning/content/train',\n",
    "    labels='inferred',\n",
    "    label_mode='int',\n",
    "    batch_size=32,\n",
    "    image_size=(256,256)\n",
    ")\n",
    "\n",
    "validation_ds = keras.utils.image_dataset_from_directory(\n",
    "    directory='C:/Users/rvaib/OneDrive/Desktop/deep_learning/content/test',\n",
    "    labels='inferred',\n",
    "    label_mode='int',\n",
    "    batch_size=32,\n",
    "    image_size=(256,256)\n",
    ")"
   ]
  },
  {
   "cell_type": "code",
   "execution_count": 9,
   "metadata": {},
   "outputs": [],
   "source": [
    "# normalizing the image from '0 - 255' to 0-1\n",
    "def process(image,label):\n",
    "    image = tf.cast(image/255. , tf.float32)\n",
    "    return image,label\n",
    "\n",
    "train_ds = train_ds.map(process)\n",
    "validation_ds=validation_ds.map(process)"
   ]
  },
  {
   "cell_type": "code",
   "execution_count": 13,
   "metadata": {},
   "outputs": [],
   "source": [
    "model = models.Sequential([\n",
    "    layers.Conv2D(filters=32,kernel_size=(3,3),padding='valid',activation='relu',input_shape=(256,256,3)),\n",
    "    layers.MaxPooling2D(pool_size=(2,2),strides=2,padding='valid'),\n",
    "    layers.Conv2D(filters=64,kernel_size=(3,3),padding='valid',activation='relu'),\n",
    "    layers.MaxPooling2D(pool_size=(2,2),strides=2,padding='valid'),\n",
    "    layers.Conv2D(filters=128,kernel_size=(3,3),padding='valid',activation='relu'),\n",
    "    layers.MaxPooling2D(pool_size=(2,2),strides=2,padding='valid'),\n",
    "    layers.Flatten(),\n",
    "    layers.Dense(128,activation='relu'),\n",
    "    layers.Dense(64,activation='relu'),\n",
    "    layers.Dense(1,activation='sigmoid')\n",
    "\n",
    "])\n",
    "\n"
   ]
  },
  {
   "cell_type": "code",
   "execution_count": 14,
   "metadata": {},
   "outputs": [
    {
     "name": "stdout",
     "output_type": "stream",
     "text": [
      "Model: \"sequential\"\n",
      "_________________________________________________________________\n",
      " Layer (type)                Output Shape              Param #   \n",
      "=================================================================\n",
      " conv2d (Conv2D)             (None, 254, 254, 32)      896       \n",
      "                                                                 \n",
      " max_pooling2d (MaxPooling2D  (None, 127, 127, 32)     0         \n",
      " )                                                               \n",
      "                                                                 \n",
      " conv2d_1 (Conv2D)           (None, 125, 125, 64)      18496     \n",
      "                                                                 \n",
      " max_pooling2d_1 (MaxPooling  (None, 62, 62, 64)       0         \n",
      " 2D)                                                             \n",
      "                                                                 \n",
      " conv2d_2 (Conv2D)           (None, 60, 60, 128)       73856     \n",
      "                                                                 \n",
      " max_pooling2d_2 (MaxPooling  (None, 30, 30, 128)      0         \n",
      " 2D)                                                             \n",
      "                                                                 \n",
      " flatten (Flatten)           (None, 115200)            0         \n",
      "                                                                 \n",
      " dense (Dense)               (None, 128)               14745728  \n",
      "                                                                 \n",
      " dense_1 (Dense)             (None, 64)                8256      \n",
      "                                                                 \n",
      " dense_2 (Dense)             (None, 1)                 65        \n",
      "                                                                 \n",
      "=================================================================\n",
      "Total params: 14,847,297\n",
      "Trainable params: 14,847,297\n",
      "Non-trainable params: 0\n",
      "_________________________________________________________________\n"
     ]
    }
   ],
   "source": [
    "model.summary()"
   ]
  },
  {
   "cell_type": "code",
   "execution_count": 16,
   "metadata": {},
   "outputs": [
    {
     "name": "stdout",
     "output_type": "stream",
     "text": [
      "Epoch 1/10\n",
      "625/625 [==============================] - 65s 91ms/step - loss: 0.6125 - accuracy: 0.6534 - val_loss: 0.5166 - val_accuracy: 0.7550\n",
      "Epoch 2/10\n",
      "625/625 [==============================] - 56s 89ms/step - loss: 0.4552 - accuracy: 0.7860 - val_loss: 0.4688 - val_accuracy: 0.7838\n",
      "Epoch 3/10\n",
      "625/625 [==============================] - 77s 123ms/step - loss: 0.3370 - accuracy: 0.8489 - val_loss: 0.4965 - val_accuracy: 0.8026\n",
      "Epoch 4/10\n",
      "625/625 [==============================] - 54s 85ms/step - loss: 0.2104 - accuracy: 0.9126 - val_loss: 0.6349 - val_accuracy: 0.7936\n",
      "Epoch 5/10\n",
      "625/625 [==============================] - 54s 86ms/step - loss: 0.1080 - accuracy: 0.9585 - val_loss: 0.8736 - val_accuracy: 0.7894\n",
      "Epoch 6/10\n",
      "625/625 [==============================] - 52s 83ms/step - loss: 0.0707 - accuracy: 0.9741 - val_loss: 0.8334 - val_accuracy: 0.7818\n",
      "Epoch 7/10\n",
      "625/625 [==============================] - 51s 81ms/step - loss: 0.0522 - accuracy: 0.9816 - val_loss: 1.0437 - val_accuracy: 0.7904\n",
      "Epoch 8/10\n",
      "625/625 [==============================] - 52s 84ms/step - loss: 0.0440 - accuracy: 0.9855 - val_loss: 1.3551 - val_accuracy: 0.7758\n",
      "Epoch 9/10\n",
      "625/625 [==============================] - 51s 82ms/step - loss: 0.0432 - accuracy: 0.9859 - val_loss: 1.0574 - val_accuracy: 0.7930\n",
      "Epoch 10/10\n",
      "625/625 [==============================] - 52s 82ms/step - loss: 0.0338 - accuracy: 0.9886 - val_loss: 1.0211 - val_accuracy: 0.7932\n"
     ]
    }
   ],
   "source": [
    "model.compile(\n",
    "    optimizer='adam',\n",
    "    loss='binary_crossentropy',\n",
    "    metrics=['accuracy']\n",
    "\n",
    "\n",
    ")\n",
    "history =model.fit(train_ds,epochs=10,validation_data=validation_ds)"
   ]
  }
 ],
 "metadata": {
  "kernelspec": {
   "display_name": "gpuenv",
   "language": "python",
   "name": "python3"
  },
  "language_info": {
   "codemirror_mode": {
    "name": "ipython",
    "version": 3
   },
   "file_extension": ".py",
   "mimetype": "text/x-python",
   "name": "python",
   "nbconvert_exporter": "python",
   "pygments_lexer": "ipython3",
   "version": "3.8.18"
  }
 },
 "nbformat": 4,
 "nbformat_minor": 2
}
