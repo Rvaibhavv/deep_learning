{
 "cells": [
  {
   "cell_type": "code",
   "execution_count": 13,
   "metadata": {},
   "outputs": [],
   "source": [
    "import tensorflow as tf\n",
    "from tensorflow import keras\n",
    "from keras import layers , models\n",
    "# from tensorflow.keras import layers , models\n",
    "import matplotlib.pyplot as plt\n",
    "import numpy as np"
   ]
  },
  {
   "cell_type": "code",
   "execution_count": 5,
   "metadata": {},
   "outputs": [],
   "source": [
    "(X_train, y_train),(X_test,y_test) = tf.keras.datasets.cifar10.load_data()"
   ]
  },
  {
   "cell_type": "code",
   "execution_count": 6,
   "metadata": {},
   "outputs": [],
   "source": [
    "classes=[\"airplane\",\"automobile\",\"bird\",\"cat\",\"deer\",\"dog\",\"frog\",\"horse\",\"ship\",\"truck\"]"
   ]
  },
  {
   "cell_type": "code",
   "execution_count": 7,
   "metadata": {},
   "outputs": [],
   "source": [
    "y_train=y_train.reshape(-1,)"
   ]
  },
  {
   "cell_type": "code",
   "execution_count": 8,
   "metadata": {},
   "outputs": [],
   "source": [
    "def plot_sample(X,y ,index):\n",
    "  plt.figure(figsize=(15,2))\n",
    "  plt.imshow(X[index])\n",
    "  plt.xlabel(classes[y[index]])"
   ]
  },
  {
   "cell_type": "code",
   "execution_count": 9,
   "metadata": {},
   "outputs": [
    {
     "data": {
      "image/png": "[encoded data removed]",
      "text/plain": [
       "<Figure size 1500x200 with 1 Axes>"
      ]
     },
     "metadata": {},
     "output_type": "display_data"
    }
   ],
   "source": [
    "plot_sample(X_train,y_train,8)"
   ]
  },
  {
   "cell_type": "code",
   "execution_count": 10,
   "metadata": {},
   "outputs": [],
   "source": [
    "X_train=X_train/255\n",
    "X_test=X_test/255"
   ]
  },
  {
   "cell_type": "code",
   "execution_count": 12,
   "metadata": {},
   "outputs": [
    {
     "name": "stdout",
     "output_type": "stream",
     "text": [
      "Epoch 1/10\n",
      "1563/1563 [==============================] - 98s 62ms/step - loss: 1.3701 - accuracy: 0.5078\n",
      "Epoch 2/10\n",
      "1563/1563 [==============================] - 108s 69ms/step - loss: 0.9897 - accuracy: 0.6519\n",
      "Epoch 3/10\n",
      "1563/1563 [==============================] - 94s 60ms/step - loss: 0.7785 - accuracy: 0.7279\n",
      "Epoch 4/10\n",
      "1563/1563 [==============================] - 100s 64ms/step - loss: 0.5918 - accuracy: 0.7916\n",
      "Epoch 5/10\n",
      "1563/1563 [==============================] - 91s 58ms/step - loss: 0.4029 - accuracy: 0.8615\n",
      "Epoch 6/10\n",
      "1563/1563 [==============================] - 104s 67ms/step - loss: 0.2439 - accuracy: 0.9174\n",
      "Epoch 7/10\n",
      "1563/1563 [==============================] - 97s 62ms/step - loss: 0.1603 - accuracy: 0.9463\n",
      "Epoch 8/10\n",
      "1563/1563 [==============================] - 104s 67ms/step - loss: 0.1169 - accuracy: 0.9612\n",
      "Epoch 9/10\n",
      "1563/1563 [==============================] - 107s 68ms/step - loss: 0.0919 - accuracy: 0.9700\n",
      "Epoch 10/10\n",
      "1563/1563 [==============================] - 116s 74ms/step - loss: 0.0870 - accuracy: 0.9708\n"
     ]
    },
    {
     "data": {
      "text/plain": [
       "<keras.callbacks.History at 0x2d3fa40ba30>"
      ]
     },
     "execution_count": 12,
     "metadata": {},
     "output_type": "execute_result"
    }
   ],
   "source": [
    "cnn = models.Sequential([\n",
    "    layers.Conv2D(filters=32, kernel_size=(3,3), activation='relu', input_shape=(32,32,3)),\n",
    "    layers.MaxPooling2D((2,2)),  \n",
    "    layers.Conv2D(filters=32, kernel_size=(3,3), activation='relu'),\n",
    "    layers.MaxPooling2D((2,2)),\n",
    "    layers.Flatten(),\n",
    "    layers.Dense(3000, activation='relu'),\n",
    "    layers.Dense(10, activation='softmax'),\n",
    "])\n",
    "\n",
    "cnn.compile(optimizer='adam',\n",
    "            loss='sparse_categorical_crossentropy',\n",
    "            metrics=['accuracy'])\n",
    "\n",
    "\n",
    "cnn.fit(X_train, y_train, epochs= 10)"
   ]
  },
  {
   "cell_type": "code",
   "execution_count": 16,
   "metadata": {},
   "outputs": [
    {
     "name": "stdout",
     "output_type": "stream",
     "text": [
      "313/313 [==============================] - 3s 9ms/step - loss: 1.7822 - accuracy: 0.6847\n"
     ]
    },
    {
     "data": {
      "text/plain": [
       "[1.7821723222732544, 0.6847000122070312]"
      ]
     },
     "execution_count": 16,
     "metadata": {},
     "output_type": "execute_result"
    }
   ],
   "source": [
    "cnn.evaluate(X_test,y_test)"
   ]
  },
  {
   "cell_type": "code",
   "execution_count": 17,
   "metadata": {},
   "outputs": [
    {
     "data": {
      "image/png": "[encoded data removed]",
      "text/plain": [
       "<Figure size 1500x200 with 1 Axes>"
      ]
     },
     "metadata": {},
     "output_type": "display_data"
    }
   ],
   "source": [
    "y_test=y_test.reshape(-1,)\n",
    "plot_sample(X_test,y_test,1)"
   ]
  },
  {
   "cell_type": "code",
   "execution_count": 18,
   "metadata": {},
   "outputs": [
    {
     "name": "stdout",
     "output_type": "stream",
     "text": [
      "313/313 [==============================] - 3s 10ms/step\n"
     ]
    },
    {
     "data": {
      "text/plain": [
       "array([[3.77377027e-08, 5.67817369e-06, 2.55006967e-07, 9.95789230e-01,\n",
       "        1.02409933e-06, 3.98742873e-03, 2.16198314e-04, 4.22283208e-10,\n",
       "        2.59229836e-07, 1.33771596e-11],\n",
       "       [1.54925176e-04, 5.34947721e-05, 5.07983764e-16, 4.00464843e-16,\n",
       "        4.39280882e-18, 1.22234740e-14, 1.84815000e-18, 3.56393662e-19,\n",
       "        9.99791563e-01, 7.07925440e-10],\n",
       "       [1.02230429e-03, 9.61907953e-02, 2.81936063e-05, 7.30726344e-04,\n",
       "        1.72867676e-05, 1.06957486e-07, 7.35441148e-08, 2.49598372e-07,\n",
       "        9.01823819e-01, 1.86480902e-04],\n",
       "       [9.99679446e-01, 2.50022182e-12, 1.91503364e-04, 2.22869785e-05,\n",
       "        1.54265678e-07, 4.12614864e-12, 1.71786244e-14, 1.21403119e-08,\n",
       "        1.06654785e-04, 1.07632974e-11],\n",
       "       [2.93602425e-12, 6.91500418e-06, 4.24076352e-05, 3.72377341e-03,\n",
       "        9.75144565e-01, 1.22914696e-06, 2.10810974e-02, 1.35656464e-09,\n",
       "        3.16782334e-09, 3.91589028e-09]], dtype=float32)"
      ]
     },
     "execution_count": 18,
     "metadata": {},
     "output_type": "execute_result"
    }
   ],
   "source": [
    "y_pred =cnn.predict(X_test)\n",
    "y_pred[:5]"
   ]
  },
  {
   "cell_type": "code",
   "execution_count": 19,
   "metadata": {},
   "outputs": [
    {
     "data": {
      "text/plain": [
       "[3, 8, 8, 0, 4]"
      ]
     },
     "execution_count": 19,
     "metadata": {},
     "output_type": "execute_result"
    }
   ],
   "source": [
    "y_classes= [np.argmax(element) for element in y_pred]\n",
    "y_classes[:5]"
   ]
  },
  {
   "cell_type": "code",
   "execution_count": 20,
   "metadata": {},
   "outputs": [
    {
     "data": {
      "text/plain": [
       "array([3, 8, 8, 0, 6], dtype=uint8)"
      ]
     },
     "execution_count": 20,
     "metadata": {},
     "output_type": "execute_result"
    }
   ],
   "source": [
    "y_test[:5]"
   ]
  },
  {
   "cell_type": "code",
   "execution_count": 26,
   "metadata": {},
   "outputs": [
    {
     "data": {
      "text/plain": [
       "'deer'"
      ]
     },
     "execution_count": 26,
     "metadata": {},
     "output_type": "execute_result"
    }
   ],
   "source": [
    "classes[y_classes[100]]"
   ]
  },
  {
   "cell_type": "code",
   "execution_count": 25,
   "metadata": {},
   "outputs": [
    {
     "data": {
      "image/png": "[encoded data removed]",
      "text/plain": [
       "<Figure size 1500x200 with 1 Axes>"
      ]
     },
     "metadata": {},
     "output_type": "display_data"
    }
   ],
   "source": [
    "plot_sample(X_test,y_test,100)"
   ]
  }
 ],
 "metadata": {
  "kernelspec": {
   "display_name": "envk",
   "language": "python",
   "name": "python3"
  },
  "language_info": {
   "codemirror_mode": {
    "name": "ipython",
    "version": 3
   },
   "file_extension": ".py",
   "mimetype": "text/x-python",
   "name": "python",
   "nbconvert_exporter": "python",
   "pygments_lexer": "ipython3",
   "version": "3.8.0"
  }
 },
 "nbformat": 4,
 "nbformat_minor": 2
}
